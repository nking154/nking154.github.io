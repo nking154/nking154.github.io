{
 "cells": [
  {
   "cell_type": "markdown",
   "id": "ca2e157b-1407-4c0c-8fcb-3bdd651cc9e8",
   "metadata": {},
   "source": [
    "Import our libraries which we need, will download the rest as and when we need them"
   ]
  },
  {
   "cell_type": "code",
   "execution_count": null,
   "id": "f60dbdd1-db3a-4cd8-a161-d593785f0976",
   "metadata": {},
   "outputs": [],
   "source": [
    "import pandas as pd"
   ]
  },
  {
   "cell_type": "markdown",
   "id": "7d6657c9-1ca7-45b6-8289-05ea4ea97ffb",
   "metadata": {},
   "source": [
    "Read our datatbase, this is in a .dta format, so need to convert it"
   ]
  },
  {
   "cell_type": "code",
   "execution_count": null,
   "id": "3b60a04b-ea9e-4d14-a896-66d127c79821",
   "metadata": {},
   "outputs": [],
   "source": [
    "df = pd.read_stata(\"/Users/nickking/Desktop/Documents/University/Year 3/Dissertation/SUBMIT.dta\")\n",
    "df.head(10)"
   ]
  },
  {
   "cell_type": "code",
   "execution_count": null,
   "id": "62238f9c-68ea-41f6-b49c-2e289a57a74d",
   "metadata": {},
   "outputs": [],
   "source": [
    "df.columns"
   ]
  },
  {
   "cell_type": "markdown",
   "id": "0e5dc08f-2a89-4f8c-9f0f-e69434409cfd",
   "metadata": {},
   "source": [
    "Filtering by prices to see the values for stocks"
   ]
  },
  {
   "cell_type": "code",
   "execution_count": null,
   "id": "c704efbf-c8d3-4da8-9193-a0d33a03dc12",
   "metadata": {},
   "outputs": [],
   "source": [
    "close_columns = [col for col in df.columns if '_close' in col] #Just keeping the columns I want so that i can see the names and values for each of them\n",
    "\n",
    "df[close_columns].head(10)\n"
   ]
  },
  {
   "cell_type": "markdown",
   "id": "1e341f33-b8b0-4974-a17d-21375cb721b3",
   "metadata": {},
   "source": [
    "Importing numpy to perform mathematical operations and generating returns"
   ]
  },
  {
   "cell_type": "code",
   "execution_count": null,
   "id": "cda14818-a885-40c6-aebd-b714a05212fc",
   "metadata": {},
   "outputs": [],
   "source": [
    "import numpy as np\n",
    "\n",
    "countries = ['uk', 'us', 'brazil', 'mexico', 'india']\n",
    "\n",
    "for country in countries:\n",
    "    df[f'return_{country}_close'] = np.log(df[f'{country}_close']).diff() #take the log, and then the difference of the log which is the percentage change\n",
    "\n",
    "df.columns\n"
   ]
  },
  {
   "cell_type": "markdown",
   "id": "8c020a0c-0c81-4326-88c5-c64769f886df",
   "metadata": {},
   "source": [
    "Importing matplotlib to provide graphs"
   ]
  },
  {
   "cell_type": "code",
   "execution_count": null,
   "id": "cf899a1d-e849-43bd-a8e2-236f6869f939",
   "metadata": {},
   "outputs": [],
   "source": [
    "import matplotlib.pyplot as plt"
   ]
  },
  {
   "cell_type": "markdown",
   "id": "556c247a-952a-417d-a8a5-967d770fb43e",
   "metadata": {},
   "source": [
    "Running a line graph for the returns of each country in the database"
   ]
  },
  {
   "cell_type": "code",
   "execution_count": null,
   "id": "1ce43b17-c143-4846-a151-c81a7f771a94",
   "metadata": {},
   "outputs": [],
   "source": [
    "countries = ['uk', 'us', 'brazil', 'mexico', 'india']\n",
    "\n",
    "for country in countries:\n",
    "    plt.figure(figsize=(8, 4))\n",
    "    plt.plot(df['monthly_date'], df[f'return_{country}_close']) #This is the line option\n",
    "    plt.title(f'{country} Returns')\n",
    "    plt.xlabel('Date')\n",
    "    plt.ylabel('Return')\n",
    "    plt.tight_layout() # this gets it so that they are on different graphs\n",
    "    plt.show()"
   ]
  },
  {
   "cell_type": "markdown",
   "id": "c64328ba-0464-45b4-a7e8-6afbdd3e69a4",
   "metadata": {},
   "source": [
    "Kernel Density plot for our returns, can show which are most \"normal\""
   ]
  },
  {
   "cell_type": "code",
   "execution_count": null,
   "id": "aff627f0-edf1-4d95-901a-5943367de038",
   "metadata": {},
   "outputs": [],
   "source": [
    "countries = ['uk', 'us', 'brazil', 'mexico', 'india']\n",
    "\n",
    "for country in countries:\n",
    "    df[f'return_{country}_close'].plot.kde() # This uses pandas directly, hence the different format\n",
    "\n",
    "plt.title('Kernel Density of Returns')\n",
    "plt.xlabel('Returns')\n",
    "plt.legend()"
   ]
  },
  {
   "cell_type": "markdown",
   "id": "e680db76-51b3-4348-8775-b3950f3b339e",
   "metadata": {},
   "source": [
    "Now separating the data I want to use in the VAR"
   ]
  },
  {
   "cell_type": "code",
   "execution_count": null,
   "id": "46048049-9433-4312-a904-504d880233a5",
   "metadata": {},
   "outputs": [],
   "source": [
    "countries = ['uk', 'us', 'brazil', 'mexico', 'india']\n",
    "var_data_dict = {} # Start a dictionary to store the values for each country which will then be used in the VAR\n",
    "\n",
    "for country in countries:\n",
    "    columns = [\n",
    "        f'return_{country}_close',\n",
    "        f'{country}_interest',\n",
    "        f'{country}_NEXP_GDP',\n",
    "        f'{country}_kof',\n",
    "        f'log_{country}_epu',\n",
    "        f'log_{country}_volume',\n",
    "        'log_volatility_close'\n",
    "    ]\n",
    "    \n",
    "    try:\n",
    "        var_data = df[columns].dropna() # Drops the rows where they are missing values from the columns which are specified\n",
    "        var_data_dict[country] = var_data # Fills the dictionary with values from each country\n",
    "    except KeyError as e:\n",
    "        print(f\"Missing column for {country}: {e}\")\n"
   ]
  },
  {
   "cell_type": "markdown",
   "id": "635b7904-375a-4f7b-9220-9661197b1c70",
   "metadata": {},
   "source": [
    "Making sure our index is in datetime"
   ]
  },
  {
   "cell_type": "code",
   "execution_count": null,
   "id": "42eea9a1-ab28-4a43-a0d1-66c8b963465f",
   "metadata": {},
   "outputs": [],
   "source": [
    "df['monthly_date'] = pd.to_datetime(df['monthly_date']) # Make sure we are in datetime- probably should have been done sooner :/\n",
    "\n",
    "df.set_index('monthly_date', inplace=True) # Our index is monthly date, i.e. the first date is 1, last is 4186\n",
    "df.index.freq = pd.infer_freq(df.index) # Detects the correct frequency of the index so that can be mapped\n",
    "print(df.index.freq)\n",
    "print(type(df.index))\n",
    "print(df.index)"
   ]
  },
  {
   "cell_type": "markdown",
   "id": "37595dc8-03fb-4702-a138-800eaeb4325f",
   "metadata": {},
   "source": [
    "And importing the library + fit the model"
   ]
  },
  {
   "cell_type": "code",
   "execution_count": null,
   "id": "c9f69ae9-3c28-47ab-bcfa-975b59fc3724",
   "metadata": {},
   "outputs": [],
   "source": [
    "from statsmodels.tsa.api import VAR\n",
    "\n",
    "forecast_dict = {}  # Store forecast DataFrames for each country\n",
    "\n",
    "for country, var_data in var_data_dict.items():\n",
    "    print(f\"--- {country.upper()} ---\")\n",
    "\n",
    "    var_data_clean = var_data.copy().reset_index(drop=True)\n",
    "    \n",
    "    try:\n",
    "        model = VAR(var_data_clean)\n",
    "        results = model.fit(5)\n",
    "\n",
    "        forecast = results.forecast(var_data_clean.values[-5:], steps=5)\n",
    "\n",
    "        # Create forecast DataFrame\n",
    "        forecast_df = pd.DataFrame(forecast, columns=var_data_clean.columns)\n",
    "\n",
    "        # Forecasts after the last date\n",
    "        last_date = df.index[-1]\n",
    "        forecast_index = pd.date_range(start=last_date + pd.Timedelta(days=1), periods=5, freq='B')\n",
    "        forecast_df.index = forecast_index\n",
    "\n",
    "        # Store in dictionary\n",
    "        forecast_dict[country] = forecast_df\n",
    "\n",
    "        display(forecast_df)\n",
    "\n",
    "    except Exception as e:\n",
    "        print(f\"Error processing {country}: {e}\")\n"
   ]
  },
  {
   "cell_type": "markdown",
   "id": "fba462a6-02e9-42c3-9df9-c58fe2f6aab2",
   "metadata": {},
   "source": [
    "plotting the returns of each country"
   ]
  },
  {
   "cell_type": "code",
   "execution_count": null,
   "id": "688866db-4cdd-4be7-880c-d5e5a3019a54",
   "metadata": {},
   "outputs": [],
   "source": [
    "for country in countries:\n",
    "    plt.figure(figsize=(10, 5))\n",
    "\n",
    "    hist = df.iloc[4100:][f'return_{country}_close'] # Create a df for data from after 4100 in the index using return values\n",
    "    plt.plot(hist.index, hist, label='Historical') # This plots the data, including the actual data and the forecast values\n",
    "\n",
    "    forecast_df = forecast_dict.get(country) # Recalls out dictionary to get the countries\n",
    "\n",
    "    if forecast_df is not None and f'return_{country}_close' in forecast_df.columns: # Plots our forecasted values with the actual values, and marks the forecast period\n",
    "        plt.plot(forecast_df.index, forecast_df[f'return_{country}_close'], linestyle='--', label='Forecast')\n",
    "        plt.axvspan(forecast_df.index[0], forecast_df.index[-1], color='orange', alpha=0.3)\n",
    "\n",
    "    plt.title(f'{country.upper()} Returns + Forecast')\n",
    "    plt.xlabel('Date')\n",
    "    plt.ylabel('Return')\n",
    "    plt.legend()\n",
    "    plt.grid(True)\n",
    "    plt.tight_layout()\n",
    "    plt.show()\n"
   ]
  },
  {
   "cell_type": "code",
   "execution_count": null,
   "id": "b32525dc-7896-4e31-858c-d552f6a43cb0",
   "metadata": {},
   "outputs": [],
   "source": []
  }
 ],
 "metadata": {
  "kernelspec": {
   "display_name": "Python 3 (ipykernel)",
   "language": "python",
   "name": "python3"
  },
  "language_info": {
   "codemirror_mode": {
    "name": "ipython",
    "version": 3
   },
   "file_extension": ".py",
   "mimetype": "text/x-python",
   "name": "python",
   "nbconvert_exporter": "python",
   "pygments_lexer": "ipython3",
   "version": "3.12.6"
  }
 },
 "nbformat": 4,
 "nbformat_minor": 5
}
